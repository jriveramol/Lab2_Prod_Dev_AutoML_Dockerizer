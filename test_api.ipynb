{
 "cells": [
  {
   "cell_type": "code",
   "execution_count": 1,
   "metadata": {},
   "outputs": [
    {
     "name": "stdout",
     "output_type": "stream",
     "text": [
      "{\"status\":\"OK\"}\n"
     ]
    }
   ],
   "source": [
    "import requests\n",
    "import pandas as pd\n",
    "# si después de hacer el contenedor en Docker se obtiene el status OK, todo bien\n",
    "url = 'http://localhost:8000/health'\n",
    "\n",
    "# Enviamos la solicitud GET\n",
    "response = requests.get(url)\n",
    "\n",
    "print(response.text)"
   ]
  },
  {
   "cell_type": "code",
   "execution_count": null,
   "metadata": {},
   "outputs": [],
   "source": [
    "df = pd.read_parquet(\"data_test.parquet\").dropna().tail(5)\n",
    "# Lo convertimos en JSON para enviarlo a la API\n",
    "data_json = df.to_dict(orient=\"records\")\n",
    "data_json"
   ]
  },
  {
   "cell_type": "code",
   "execution_count": 3,
   "metadata": {},
   "outputs": [
    {
     "name": "stdout",
     "output_type": "stream",
     "text": [
      "{\"predictions\":[{\"Clase_1\":0.669144694266951,\"Clase_2\":0.330855305733049},{\"Clase_1\":0.6911086437359798,\"Clase_2\":0.3088913562640202},{\"Clase_1\":0.6997529920280813,\"Clase_2\":0.3002470079719191},{\"Clase_1\":0.13753222374689522,\"Clase_2\":0.8624677762531047},{\"Clase_1\":0.7232550404955498,\"Clase_2\":0.2767449595044502}]}\n"
     ]
    }
   ],
   "source": [
    "url = 'http://localhost:8000/predict/'\n",
    "\n",
    "response = requests.post(url, json={\"input\":data_json})\n",
    "print(response.text)"
   ]
  }
 ],
 "metadata": {
  "kernelspec": {
   "display_name": "prod_dev",
   "language": "python",
   "name": "python3"
  },
  "language_info": {
   "codemirror_mode": {
    "name": "ipython",
    "version": 3
   },
   "file_extension": ".py",
   "mimetype": "text/x-python",
   "name": "python",
   "nbconvert_exporter": "python",
   "pygments_lexer": "ipython3",
   "version": "3.12.7"
  }
 },
 "nbformat": 4,
 "nbformat_minor": 2
}
